{
  "nbformat": 4,
  "nbformat_minor": 0,
  "metadata": {
    "colab": {
      "name": "train-vae-painter.ipynb",
      "version": "0.3.2",
      "provenance": [],
      "collapsed_sections": [],
      "toc_visible": true,
      "include_colab_link": true
    },
    "kernelspec": {
      "name": "python2",
      "display_name": "Python 2"
    },
    "accelerator": "GPU"
  },
  "cells": [
    {
      "cell_type": "markdown",
      "metadata": {
        "id": "view-in-github",
        "colab_type": "text"
      },
      "source": [
        "<a href=\"https://colab.research.google.com/github/reiinakano/diff-painter/blob/master/notebooks/train_vae_painter.ipynb\" target=\"_parent\"><img src=\"https://colab.research.google.com/assets/colab-badge.svg\" alt=\"Open In Colab\"/></a>"
      ]
    },
    {
      "metadata": {
        "id": "oqPegdNYTa12",
        "colab_type": "text"
      },
      "cell_type": "markdown",
      "source": [
        "# Optionally connect to Google Drive"
      ]
    },
    {
      "metadata": {
        "id": "y_yS_Zk7W_mh",
        "colab_type": "code",
        "outputId": "53ba0245-c9c5-4601-d6c0-25276f8d7102",
        "colab": {
          "base_uri": "https://localhost:8080/",
          "height": 127
        }
      },
      "cell_type": "code",
      "source": [
        "#from google.colab import drive\n",
        "#drive.mount('/drive')"
      ],
      "execution_count": 7,
      "outputs": [
        {
          "output_type": "stream",
          "text": [
            "Go to this URL in a browser: https://accounts.google.com/o/oauth2/auth?client_id=947318989803-6bn6qk8qdgf4n4g3pfee6491hc0brc4i.apps.googleusercontent.com&redirect_uri=urn%3Aietf%3Awg%3Aoauth%3A2.0%3Aoob&scope=email%20https%3A%2F%2Fwww.googleapis.com%2Fauth%2Fdocs.test%20https%3A%2F%2Fwww.googleapis.com%2Fauth%2Fdrive%20https%3A%2F%2Fwww.googleapis.com%2Fauth%2Fdrive.photos.readonly%20https%3A%2F%2Fwww.googleapis.com%2Fauth%2Fpeopleapi.readonly&response_type=code\n",
            "\n",
            "Enter your authorization code:\n",
            "··········\n",
            "Mounted at /drive\n"
          ],
          "name": "stdout"
        }
      ]
    },
    {
      "metadata": {
        "id": "9P5f_uzAq_5g",
        "colab_type": "text"
      },
      "cell_type": "markdown",
      "source": [
        "# Install MyPaint and other dependencies"
      ]
    },
    {
      "metadata": {
        "id": "bAWyePtkn3av",
        "colab_type": "code",
        "colab": {}
      },
      "cell_type": "code",
      "source": [
        "# Install mypaint\n",
        "!apt-get update\n",
        "!apt-get install libjson-c-dev libgirepository1.0-dev libglib2.0-dev\n",
        "!apt-get install autotools-dev intltool gettext libtool\n",
        "!apt-get install swig python-setuptools gettext g++\n",
        "!apt-get install -y libgtk-3-dev python-gi-dev\n",
        "!apt-get install -y libpng-dev liblcms2-dev libjson-c-dev\n",
        "!apt-get install -y gir1.2-gtk-3.0 python-gi-cairo\n",
        "!apt-get install scons\n",
        "\n",
        "!wget https://github.com/mypaint/libmypaint/releases/download/v1.3.0/libmypaint-1.3.0.tar.xz\n",
        "!tar -xvf libmypaint-1.3.0.tar.xz\n",
        "!mv libmypaint-1.3.0 libmypaint\n",
        "\n",
        "!cd libmypaint && ./configure && make install\n",
        "\n",
        "!wget https://github.com/mypaint/mypaint/releases/download/v1.2.1/mypaint-1.2.1.tar.xz\n",
        "!tar -xvf mypaint-1.2.1.tar.xz\n",
        "!mv mypaint-1.2.1 mypaint\n",
        "!cd mypaint && scons && scons install\n",
        "\n",
        "!ldconfig\n",
        "\n",
        "!pip install ipdb tqdm pathlib cloudpickle matplotlib"
      ],
      "execution_count": 0,
      "outputs": []
    },
    {
      "metadata": {
        "id": "g2HwOsxDHIQa",
        "colab_type": "code",
        "outputId": "5ac9582f-d02e-4f76-d29a-aaab5e21d99a",
        "colab": {
          "base_uri": "https://localhost:8080/",
          "height": 73
        }
      },
      "cell_type": "code",
      "source": [
        "!pip install future-fstrings"
      ],
      "execution_count": 3,
      "outputs": [
        {
          "output_type": "stream",
          "text": [
            "Requirement already satisfied: future-fstrings in /usr/local/lib/python2.7/dist-packages (1.0.0)\n",
            "Requirement already satisfied: tokenize-rt; python_version < \"3.6\" in /usr/local/lib/python2.7/dist-packages (from future-fstrings) (2.2.0)\n"
          ],
          "name": "stdout"
        }
      ]
    },
    {
      "metadata": {
        "id": "1ueV31ATgbQp",
        "colab_type": "code",
        "outputId": "aa3d6ee1-ab2f-48ba-c45e-8f7222ee3be1",
        "colab": {
          "base_uri": "https://localhost:8080/",
          "height": 197
        }
      },
      "cell_type": "code",
      "source": [
        "!git clone https://github.com/reiinakano/SPIRAL-tensorflow.git\n",
        "!cd SPIRAL-tensorflow && git checkout reiinakano-patch-2  #reiinakano-patches\n",
        "!cd SPIRAL-tensorflow && git pull"
      ],
      "execution_count": 4,
      "outputs": [
        {
          "output_type": "stream",
          "text": [
            "Cloning into 'SPIRAL-tensorflow'...\n",
            "remote: Enumerating objects: 8, done.\u001b[K\n",
            "remote: Counting objects: 100% (8/8), done.\u001b[K\n",
            "remote: Compressing objects: 100% (8/8), done.\u001b[K\n",
            "remote: Total 154 (delta 3), reused 0 (delta 0), pack-reused 146\u001b[K\n",
            "Receiving objects: 100% (154/154), 1.36 MiB | 2.88 MiB/s, done.\n",
            "Resolving deltas: 100% (75/75), done.\n",
            "Branch 'reiinakano-patch-2' set up to track remote branch 'reiinakano-patch-2' from 'origin'.\n",
            "Switched to a new branch 'reiinakano-patch-2'\n",
            "Already up to date.\n"
          ],
          "name": "stdout"
        }
      ]
    },
    {
      "metadata": {
        "id": "a2NYZTrugOeu",
        "colab_type": "code",
        "outputId": "916fbc25-b7e0-47bc-fdc7-0dd535794f16",
        "colab": {
          "base_uri": "https://localhost:8080/",
          "height": 251
        }
      },
      "cell_type": "code",
      "source": [
        "!wget https://bin.equinox.io/c/4VmDzA7iaHb/ngrok-stable-linux-amd64.zip\n",
        "!unzip ngrok-stable-linux-amd64.zip"
      ],
      "execution_count": 5,
      "outputs": [
        {
          "output_type": "stream",
          "text": [
            "--2019-04-11 12:14:52--  https://bin.equinox.io/c/4VmDzA7iaHb/ngrok-stable-linux-amd64.zip\n",
            "Resolving bin.equinox.io (bin.equinox.io)... 52.203.66.95, 34.206.253.53, 54.174.228.92, ...\n",
            "Connecting to bin.equinox.io (bin.equinox.io)|52.203.66.95|:443... connected.\n",
            "HTTP request sent, awaiting response... 200 OK\n",
            "Length: 14977695 (14M) [application/octet-stream]\n",
            "Saving to: ‘ngrok-stable-linux-amd64.zip’\n",
            "\n",
            "ngrok-stable-linux- 100%[===================>]  14.28M  14.4MB/s    in 1.0s    \n",
            "\n",
            "2019-04-11 12:14:53 (14.4 MB/s) - ‘ngrok-stable-linux-amd64.zip’ saved [14977695/14977695]\n",
            "\n",
            "Archive:  ngrok-stable-linux-amd64.zip\n",
            "  inflating: ngrok                   \n"
          ],
          "name": "stdout"
        }
      ]
    },
    {
      "metadata": {
        "id": "9a6SRqIMVZti",
        "colab_type": "text"
      },
      "cell_type": "markdown",
      "source": [
        "# Download episodes. \n",
        "\n",
        "If you want to generate your own brushstrokes, go to https://github.com/reiinakano/diff-painter/blob/master/notebooks/generate_stroke_examples.ipynb or put your data under the data/ folder "
      ]
    },
    {
      "metadata": {
        "id": "wAV5YBk6vu3z",
        "colab_type": "code",
        "colab": {
          "base_uri": "https://localhost:8080/",
          "height": 35
        },
        "outputId": "fae6cc73-2747-45b3-ac3c-c989e06ebbab"
      },
      "cell_type": "code",
      "source": [
        "!mkdir data\n",
        "#!mkdir tf_vae\n",
        "!cp /drive/My\\ Drive/world-painter5/episodes_*.npz data/\n",
        "#!cp /drive/My\\ Drive/world-painter5/tf_vae/* tf_vae/\n",
        "#!cp -r /drive/My\\ Drive/world-painter5/logdir_tf_vae logdir"
      ],
      "execution_count": 8,
      "outputs": [
        {
          "output_type": "stream",
          "text": [
            "mkdir: cannot create directory ‘data’: File exists\n"
          ],
          "name": "stdout"
        }
      ]
    },
    {
      "metadata": {
        "id": "rfdcEEY0VDlo",
        "colab_type": "code",
        "colab": {}
      },
      "cell_type": "code",
      "source": [
        ""
      ],
      "execution_count": 0,
      "outputs": []
    },
    {
      "metadata": {
        "id": "2XnwCiUIacv3",
        "colab_type": "code",
        "colab": {}
      },
      "cell_type": "code",
      "source": [
        ""
      ],
      "execution_count": 0,
      "outputs": []
    },
    {
      "metadata": {
        "id": "YA6KNvosPlRA",
        "colab_type": "text"
      },
      "cell_type": "markdown",
      "source": [
        "#imports"
      ]
    },
    {
      "metadata": {
        "id": "QYBRFuZqRqHL",
        "colab_type": "code",
        "colab": {}
      },
      "cell_type": "code",
      "source": [
        "import numpy as np\n",
        "import matplotlib.pyplot as plt\n",
        "from pathlib import Path\n",
        "import json\n",
        "\n",
        "import tensorflow as tf\n",
        "import os\n",
        "\n",
        "import sys\n",
        "sys.path.append('mypaint')\n",
        "sys.path.append('SPIRAL-tensorflow')\n",
        "\n",
        "from lib import surface, tiledsurface, brush\n",
        "from envs.mypaint_utils import *\n",
        "\n",
        "from IPython.display import display\n",
        "\n",
        "import moviepy.editor as mpy\n",
        "from moviepy.video.io.ffmpeg_writer import FFMPEG_VideoWriter\n",
        "\n",
        "import matplotlib.pyplot as plt\n"
      ],
      "execution_count": 0,
      "outputs": []
    },
    {
      "metadata": {
        "id": "7x0pcs8rWGWm",
        "colab_type": "text"
      },
      "cell_type": "markdown",
      "source": [
        "# "
      ]
    },
    {
      "metadata": {
        "id": "BAaXkkWhRzWt",
        "colab_type": "code",
        "colab": {}
      },
      "cell_type": "code",
      "source": [
        "class args:\n",
        "  jump=True\n",
        "  curve=True\n",
        "  screen_size=64\n",
        "  location_size=32\n",
        "  color_channel=3\n",
        "  brush_path='SPIRAL-tensorflow/assets/brushes/dry_brush.myb'\n",
        "  train=True\n",
        "  data_dir=Path('data')"
      ],
      "execution_count": 0,
      "outputs": []
    },
    {
      "metadata": {
        "id": "TYCysScxPj3v",
        "colab_type": "text"
      },
      "cell_type": "markdown",
      "source": [
        "# painting environment"
      ]
    },
    {
      "metadata": {
        "id": "2z3CXRd1TRma",
        "colab_type": "code",
        "colab": {}
      },
      "cell_type": "code",
      "source": [
        "class PaintMode:\n",
        "  STROKES_ONLY = 0\n",
        "  JUMP_STROKES = 1\n",
        "  CONNECTED_STROKES = 2\n",
        "\n",
        "class ColorEnv():\n",
        "    head = 0.25\n",
        "    tail = 0.75\n",
        "    \n",
        "    # all 0 to 1\n",
        "    actions_to_idx = {\n",
        "        'pressure': 0,\n",
        "        'size': 1,\n",
        "        'control_x': 2,\n",
        "        'control_y': 3,\n",
        "        'end_x': 4,\n",
        "        'end_y': 5,\n",
        "        'color_r': 6,\n",
        "        'color_g': 7,\n",
        "        'color_b': 8,\n",
        "        'start_x': 9,\n",
        "        'start_y': 10,\n",
        "        'entry_pressure': 11,\n",
        "    }\n",
        "\n",
        "    def __init__(self, args, paint_mode=PaintMode.JUMP_STROKES):\n",
        "        self.args = args\n",
        "        self.paint_mode = paint_mode\n",
        "\n",
        "        # screen\n",
        "        self.screen_size = args.screen_size\n",
        "        self.height, self.width = self.screen_size, self.screen_size\n",
        "        self.observation_shape = [\n",
        "                self.height, self.width, args.color_channel]\n",
        "\n",
        "        # location\n",
        "        self.location_size = args.location_size\n",
        "        self.location_shape = [self.location_size, self.location_size]\n",
        "        \n",
        "        self.prev_x, self.prev_y, self.prev_pressure = None, None, None\n",
        "    \n",
        "    @staticmethod\n",
        "    def pretty_print_action(ac):\n",
        "        for k, v in ColorEnv.actions_to_idx.items():\n",
        "            print(k, ac[v])\n",
        "    \n",
        "    def random_action(self):\n",
        "        return np.random.uniform(size=[len(self.actions_to_idx)])\n",
        "      \n",
        "    def reset(self):\n",
        "        self.intermediate_images = []\n",
        "        self.prev_x, self.prev_y, self.prev_pressure = None, None, None\n",
        "\n",
        "        self.s = tiledsurface.Surface()\n",
        "        self.s.flood_fill(0, 0, (255, 255, 255), (0, 0, 64, 64), 0, self.s)\n",
        "        self.s.begin_atomic()\n",
        "\n",
        "        with open(self.args.brush_path) as fp:\n",
        "            self.bi = brush.BrushInfo(fp.read())\n",
        "        self.b = brush.Brush(self.bi)\n",
        "\n",
        "    def draw(self, ac, s=None, dtime=1):\n",
        "        # Just added this\n",
        "        if self.paint_mode == PaintMode.STROKES_ONLY:\n",
        "          self.s.clear()\n",
        "          self.s.flood_fill(0, 0, (255, 255, 255), (0, 0, 64, 64), 0, self.s)\n",
        "          self.s.end_atomic()\n",
        "          self.s.begin_atomic()\n",
        "        \n",
        "        if s is None:\n",
        "            s = self.s\n",
        "\n",
        "        s_x, s_y = ac[self.actions_to_idx['start_x']]*64, ac[self.actions_to_idx['start_y']]*64  \n",
        "        e_x, e_y = ac[self.actions_to_idx['end_x']]*64, ac[self.actions_to_idx['end_y']]*64\n",
        "        c_x, c_y = ac[self.actions_to_idx['control_x']]*64, ac[self.actions_to_idx['control_y']]*64\n",
        "        color = (\n",
        "            ac[self.actions_to_idx['color_r']],\n",
        "            ac[self.actions_to_idx['color_g']],\n",
        "            ac[self.actions_to_idx['color_b']],\n",
        "        )\n",
        "        pressure = ac[self.actions_to_idx['pressure']]*0.8\n",
        "        entry_pressure = ac[self.actions_to_idx['entry_pressure']]*0.8\n",
        "        size = ac[self.actions_to_idx['size']] * 2.\n",
        "        \n",
        "        if self.paint_mode == PaintMode.CONNECTED_STROKES:\n",
        "            if self.prev_x is not None:\n",
        "                s_x, s_y, entry_pressure = self.prev_x, self.prev_y, self.prev_pressure\n",
        "            self.prev_x, self.prev_y, self.prev_pressure = e_x, e_y, pressure\n",
        "\n",
        "        self.b.brushinfo.set_color_rgb(color)\n",
        "        \n",
        "        self.b.brushinfo.set_base_value('radius_logarithmic', size)\n",
        "\n",
        "        # Move brush to starting point without leaving it on the canvas.\n",
        "        self._stroke_to(s_x, s_y, 0)\n",
        "\n",
        "        self._draw(s_x, s_y, e_x, e_y, c_x, c_y, entry_pressure, pressure, size, color, dtime)\n",
        "\n",
        "    def _draw(self, s_x, s_y, e_x, e_y, c_x, c_y,\n",
        "              entry_pressure, pressure, size, color, dtime):\n",
        "\n",
        "        # if straight line or jump\n",
        "        if pressure == 0:\n",
        "            self.b.stroke_to(\n",
        "                    self.s.backend, e_x, e_y, pressure, 0, 0, dtime)\n",
        "        else:\n",
        "            self.curve(c_x, c_y, s_x, s_y, e_x, e_y, entry_pressure, pressure)\n",
        "            \n",
        "        # Relieve brush pressure for next jump\n",
        "        self._stroke_to(e_x, e_y, 0)\n",
        "\n",
        "        self.s.end_atomic()\n",
        "        self.s.begin_atomic()\n",
        "\n",
        "    # sx, sy = starting point\n",
        "    # ex, ey = end point\n",
        "    # kx, ky = curve point from last line\n",
        "    # lx, ly = last point from InteractionMode update\n",
        "    def curve(self, cx, cy, sx, sy, ex, ey, entry_pressure, pressure):\n",
        "        #entry_p, midpoint_p, junk, prange2, head, tail\n",
        "        entry_p, midpoint_p, prange1, prange2, h, t = \\\n",
        "                self._line_settings(entry_pressure, pressure)\n",
        "\n",
        "        points_in_curve = 100\n",
        "        mx, my = midpoint(sx, sy, ex, ey)\n",
        "        length, nx, ny = length_and_normal(mx, my, cx, cy)\n",
        "        cx, cy = multiply_add(mx, my, nx, ny, length*2)\n",
        "        x1, y1 = difference(sx, sy, cx, cy)\n",
        "        x2, y2 = difference(cx, cy, ex, ey)\n",
        "        head = points_in_curve * h\n",
        "        head_range = int(head)+1\n",
        "        tail = points_in_curve * t\n",
        "        tail_range = int(tail)+1\n",
        "        tail_length = points_in_curve - tail\n",
        "\n",
        "        # Beginning\n",
        "        px, py = point_on_curve_1(1, cx, cy, sx, sy, x1, y1, x2, y2)\n",
        "        length, nx, ny = length_and_normal(sx, sy, px, py)\n",
        "        bx, by = multiply_add(sx, sy, nx, ny, 0.25)\n",
        "        self._stroke_to(bx, by, entry_p)\n",
        "        pressure = abs(1/head * prange1 + entry_p)\n",
        "        self._stroke_to(px, py, pressure)\n",
        "\n",
        "        for i in xrange(2, head_range):\n",
        "            px, py = point_on_curve_1(i, cx, cy, sx, sy, x1, y1, x2, y2)\n",
        "            pressure = abs(i/head * prange1 + entry_p)\n",
        "            self._stroke_to(px, py, pressure)\n",
        "\n",
        "        # Middle\n",
        "        for i in xrange(head_range, tail_range):\n",
        "            px, py = point_on_curve_1(i, cx, cy, sx, sy, x1, y1, x2, y2)\n",
        "            self._stroke_to(px, py, midpoint_p)\n",
        "\n",
        "        # End\n",
        "        for i in xrange(tail_range, points_in_curve+1):\n",
        "            px, py = point_on_curve_1(i, cx, cy, sx, sy, x1, y1, x2, y2)\n",
        "            pressure = abs((i-tail)/tail_length * prange2 + midpoint_p)\n",
        "            self._stroke_to(px, py, pressure)\n",
        "\n",
        "        return pressure\n",
        "\n",
        "    def _stroke_to(self, x, y, pressure, duration=0.1):\n",
        "        self.b.stroke_to(\n",
        "                self.s.backend,\n",
        "                x, y,\n",
        "                pressure,\n",
        "                0.0, 0.0,\n",
        "                duration)\n",
        "        self.s.end_atomic()\n",
        "        self.s.begin_atomic()\n",
        "        self.intermediate_images.append(self.image)\n",
        "\n",
        "    def save_image(self, path=\"test.png\"):\n",
        "        Image.fromarray(self.image.astype(np.uint8).squeeze()).save(path)\n",
        "        #self.s.save_as_png(path, alpha=False)\n",
        "\n",
        "    @property\n",
        "    def image(self):\n",
        "        rect = [0, 0, self.height, self.width]\n",
        "        scanline_strips = \\\n",
        "                surface.scanline_strips_iter(self.s, rect)\n",
        "        return next(scanline_strips)\n",
        "\n",
        "    def _line_settings(self, entry_pressure, pressure):\n",
        "        p1 = entry_pressure\n",
        "        p2 = (entry_pressure + pressure) / 2\n",
        "        p3 = pressure\n",
        "        if self.head == 0.0001:\n",
        "            p1 = p2\n",
        "        prange1 = p2 - p1\n",
        "        prange2 = p3 - p2\n",
        "        return p1, p2, prange1, prange2, self.head, self.tail\n"
      ],
      "execution_count": 0,
      "outputs": []
    },
    {
      "metadata": {
        "id": "DbTsHSnOWqG6",
        "colab_type": "text"
      },
      "cell_type": "markdown",
      "source": [
        "# Sanity check data"
      ]
    },
    {
      "metadata": {
        "id": "nLLVVhBGjdX5",
        "colab_type": "code",
        "outputId": "46727105-c752-4188-eafb-70c4077c8bca",
        "colab": {
          "base_uri": "https://localhost:8080/",
          "height": 122
        }
      },
      "cell_type": "code",
      "source": [
        "loaded = np.load('data/episodes_0.npz')\n",
        "\n",
        "w=args.screen_size\n",
        "h=args.screen_size\n",
        "fig=plt.figure(figsize=(30, 10))\n",
        "cols = 10\n",
        "\n",
        "smaller_arr = loaded['strokes'][:cols]\n",
        "\n",
        "for col in range(cols):\n",
        "    img = smaller_arr[col][:, :, :3]\n",
        "    #print(img.shape)\n",
        "    fig.add_subplot(1, 20, col+1)\n",
        "    plt.grid(False)\n",
        "    plt.imshow(img)\n",
        "plt.show()"
      ],
      "execution_count": 4,
      "outputs": [
        {
          "output_type": "display_data",
          "data": {
            "image/png": "[encoded data removed]",
            "text/plain": [
              "<Figure size 2160x720 with 10 Axes>"
            ]
          },
          "metadata": {
            "tags": []
          }
        }
      ]
    },
    {
      "metadata": {
        "id": "4OQ0qyTrYuv1",
        "colab_type": "code",
        "outputId": "8fc6fc91-5cc9-428b-8ae2-ac00f7ec3736",
        "colab": {
          "base_uri": "https://localhost:8080/",
          "height": 2357
        }
      },
      "cell_type": "code",
      "source": [
        "for ac in loaded['actions'][:cols]:\n",
        "  print('___')\n",
        "  ColorEnv.pretty_print_action(ac)"
      ],
      "execution_count": 5,
      "outputs": [
        {
          "output_type": "stream",
          "text": [
            "___\n",
            "('end_y', 0.7956261733544399)\n",
            "('end_x', 0.0719896371238532)\n",
            "('color_g', 0.9295171381477916)\n",
            "('color_b', 0.327325016661421)\n",
            "('pressure', 0.7016299969570069)\n",
            "('entry_pressure', 0.791512122280226)\n",
            "('color_r', 0.8850787301412161)\n",
            "('size', 0.3078098070978178)\n",
            "('control_y', 0.3821322692018977)\n",
            "('control_x', 0.9056736538771794)\n",
            "('start_x', 0.8012315384848907)\n",
            "('start_y', 0.13205111491701982)\n",
            "___\n",
            "('end_y', 0.504413715287214)\n",
            "('end_x', 0.28868259517478045)\n",
            "('color_g', 0.5709039312649203)\n",
            "('color_b', 0.46340333469497996)\n",
            "('pressure', 0.2863948560610854)\n",
            "('entry_pressure', 0.17021552902115167)\n",
            "('color_r', 0.03936242643496768)\n",
            "('size', 0.565083587620296)\n",
            "('control_y', 0.34304069041323104)\n",
            "('control_x', 0.5099357257911145)\n",
            "('start_x', 0.8272772159918103)\n",
            "('start_y', 0.10557960314008707)\n",
            "___\n",
            "('end_y', 0.19765549622445455)\n",
            "('end_x', 0.6396484251012181)\n",
            "('color_g', 0.3951372944849686)\n",
            "('color_b', 0.3583289012342826)\n",
            "('pressure', 0.8820556863638158)\n",
            "('entry_pressure', 0.2468142120456086)\n",
            "('color_r', 0.34372419619173233)\n",
            "('size', 0.46946313732420586)\n",
            "('control_y', 0.17441329702056618)\n",
            "('control_x', 0.5330153320486607)\n",
            "('start_x', 0.6939551740488232)\n",
            "('start_y', 0.6021351338577212)\n",
            "___\n",
            "('end_y', 0.5990097632197946)\n",
            "('end_x', 0.7319878980178449)\n",
            "('color_g', 0.3647723898045574)\n",
            "('color_b', 0.5609482546745713)\n",
            "('pressure', 0.3615941219052361)\n",
            "('entry_pressure', 0.049876047166195425)\n",
            "('color_r', 0.5583349468785251)\n",
            "('size', 0.8937093843982038)\n",
            "('control_y', 0.40855139440716737)\n",
            "('control_x', 0.8289450921093041)\n",
            "('start_x', 0.5912960777313729)\n",
            "('start_y', 0.7124159510673659)\n",
            "___\n",
            "('end_y', 0.23223370685185696)\n",
            "('end_x', 0.23142407947035626)\n",
            "('color_g', 0.8120852348250226)\n",
            "('color_b', 0.28465284483444886)\n",
            "('pressure', 0.6539955689435811)\n",
            "('entry_pressure', 0.5273283348125253)\n",
            "('color_r', 0.6247135007422406)\n",
            "('size', 0.22379336827475005)\n",
            "('control_y', 0.12397647137616807)\n",
            "('control_x', 0.5894913883818251)\n",
            "('start_x', 0.6597941797658132)\n",
            "('start_y', 0.5658011442891642)\n",
            "___\n",
            "('end_y', 0.6862081686633741)\n",
            "('end_x', 0.45909004590260927)\n",
            "('color_g', 0.5660905972658984)\n",
            "('color_b', 0.080241109214084)\n",
            "('pressure', 0.2872192098304178)\n",
            "('entry_pressure', 0.4625963420037954)\n",
            "('color_r', 0.8685374270973876)\n",
            "('size', 0.4369869827928903)\n",
            "('control_y', 0.9712616949141338)\n",
            "('control_x', 0.5359292481170923)\n",
            "('start_x', 0.18483238858273732)\n",
            "('start_y', 0.2767511913681606)\n",
            "___\n",
            "('end_y', 0.4412098934277463)\n",
            "('end_x', 0.9422441080859489)\n",
            "('color_g', 0.5494211275368261)\n",
            "('color_b', 0.14851842998800457)\n",
            "('pressure', 0.44100900677745136)\n",
            "('entry_pressure', 0.34858014406338145)\n",
            "('color_r', 0.1365913859091621)\n",
            "('size', 0.12495457130770626)\n",
            "('control_y', 0.38066556163203247)\n",
            "('control_x', 0.9208542655202987)\n",
            "('start_x', 0.22446028425810038)\n",
            "('start_y', 0.1523544091481689)\n",
            "___\n",
            "('end_y', 0.6185172805773224)\n",
            "('end_x', 0.6667684758907)\n",
            "('color_g', 0.476757629882575)\n",
            "('color_b', 0.25660700842458406)\n",
            "('pressure', 0.21440343744439505)\n",
            "('entry_pressure', 0.7025848495521132)\n",
            "('color_r', 0.15632361010444262)\n",
            "('size', 0.034043327106772936)\n",
            "('control_y', 0.03676456476052148)\n",
            "('control_x', 0.7589592535653519)\n",
            "('start_x', 0.7155336898791559)\n",
            "('start_y', 0.49467144228811233)\n",
            "___\n",
            "('end_y', 0.23603551206513906)\n",
            "('end_x', 0.817356362075276)\n",
            "('color_g', 0.8400681795766592)\n",
            "('color_b', 0.7838239642870464)\n",
            "('pressure', 0.21066184375450459)\n",
            "('entry_pressure', 0.7704632813077369)\n",
            "('color_r', 0.6691494715495735)\n",
            "('size', 0.9095115201302706)\n",
            "('control_y', 0.6323994424626013)\n",
            "('control_x', 0.6651877271023626)\n",
            "('start_x', 0.1477589443450098)\n",
            "('start_y', 0.9058452476470832)\n",
            "___\n",
            "('end_y', 0.8755256892550315)\n",
            "('end_x', 0.10023411153840145)\n",
            "('color_g', 0.08816096066098811)\n",
            "('color_b', 0.2804555413768217)\n",
            "('pressure', 0.7928330778485789)\n",
            "('entry_pressure', 0.8988926990951548)\n",
            "('color_r', 0.9793448412443231)\n",
            "('size', 0.3923361524374862)\n",
            "('control_y', 0.7005238804148983)\n",
            "('control_x', 0.24788559166760993)\n",
            "('start_x', 0.020409542679467263)\n",
            "('start_y', 0.7023227162819751)\n"
          ],
          "name": "stdout"
        }
      ]
    },
    {
      "metadata": {
        "id": "fGG8iiojlWHy",
        "colab_type": "text"
      },
      "cell_type": "markdown",
      "source": [
        "# VAE Neural Painter"
      ]
    },
    {
      "metadata": {
        "id": "WhkS4KSjR3jg",
        "colab_type": "code",
        "colab": {}
      },
      "cell_type": "code",
      "source": [
        "class ConvVAE(object):\n",
        "  def __init__(self, z_size=64, batch_size=100, learning_rate=0.0001, kl_tolerance=0.5, is_training=True, reuse=False, gpu_mode=True, graph=None):\n",
        "    self.z_size = z_size\n",
        "    self.batch_size = batch_size\n",
        "    self.learning_rate = learning_rate\n",
        "    self.is_training = is_training\n",
        "    self.kl_tolerance = kl_tolerance\n",
        "    self.reuse = reuse\n",
        "    # Is it okay to comment this out? with tf.variable_scope('conv_vae', reuse=self.reuse):\n",
        "    if not gpu_mode:\n",
        "      with tf.device('/cpu:0'):\n",
        "        tf.logging.info('conv_vae using cpu.')\n",
        "        self._build_graph(graph)\n",
        "    else:\n",
        "      tf.logging.info('conv_vae using gpu.')\n",
        "      self._build_graph(graph)\n",
        "    self._init_session()\n",
        "  \n",
        "  def build_decoder(self, z, reuse=False):\n",
        "    with tf.variable_scope('decoder', reuse=reuse):\n",
        "      h = tf.layers.dense(z, 4*256, name=\"fc\")\n",
        "      h = tf.reshape(h, [-1, 1, 1, 4*256])\n",
        "      h = tf.layers.conv2d_transpose(h, 128, 5, strides=2, activation=tf.nn.relu, name=\"deconv1\")\n",
        "      h = tf.layers.conv2d_transpose(h, 64, 5, strides=2, activation=tf.nn.relu, name=\"deconv2\")\n",
        "      h = tf.layers.conv2d_transpose(h, 32, 6, strides=2, activation=tf.nn.relu, name=\"deconv3\")\n",
        "      return tf.layers.conv2d_transpose(h, 3, 6, strides=2, activation=tf.nn.sigmoid, name=\"deconv4\")\n",
        "  \n",
        "  def build_predictor(self, actions, reuse=False, is_training=False):\n",
        "    with tf.variable_scope('predictor', reuse=reuse):\n",
        "      h = tf.layers.dense(actions, 256, activation=tf.nn.leaky_relu, name=\"fc1\")\n",
        "      h = tf.layers.batch_normalization(h, training=is_training, name=\"bn1\")\n",
        "      h = tf.layers.dense(h, 64, activation=tf.nn.leaky_relu, name=\"fc2\")\n",
        "      h = tf.layers.batch_normalization(h, training=is_training, name=\"bn2\")\n",
        "      h = tf.layers.dense(h, 64, activation=tf.nn.leaky_relu, name=\"fc3\")\n",
        "      h = tf.layers.batch_normalization(h, training=is_training, name=\"bn3\")\n",
        "      return tf.layers.dense(h, self.z_size, name='fc4')\n",
        "  \n",
        "  def _build_graph(self, graph):\n",
        "    if graph is None:\n",
        "      self.g = tf.Graph()\n",
        "    else:\n",
        "      self.g = graph\n",
        "    with self.g.as_default(), tf.variable_scope('conv_vae', reuse=self.reuse):\n",
        "\n",
        "      #### autoencoding part\n",
        "      self.x = tf.placeholder(tf.float32, shape=[None, 64, 64, 3])\n",
        "      \n",
        "      # Encoder\n",
        "      h = tf.layers.conv2d(self.x, 32, 4, strides=2, activation=tf.nn.relu, name=\"enc_conv1\")\n",
        "      h = tf.layers.conv2d(h, 64, 4, strides=2, activation=tf.nn.relu, name=\"enc_conv2\")\n",
        "      h = tf.layers.conv2d(h, 128, 4, strides=2, activation=tf.nn.relu, name=\"enc_conv3\")\n",
        "      h = tf.layers.conv2d(h, 256, 4, strides=2, activation=tf.nn.relu, name=\"enc_conv4\")\n",
        "      h = tf.reshape(h, [-1, 2*2*256])\n",
        "\n",
        "      # VAE\n",
        "      self.mu = tf.layers.dense(h, self.z_size, name=\"enc_fc_mu\")\n",
        "      self.logvar = tf.layers.dense(h, self.z_size, name=\"enc_fc_log_var\")\n",
        "      self.sigma = tf.exp(self.logvar / 2.0)\n",
        "      #self.epsilon = tf.random_normal([self.batch_size, self.z_size])\n",
        "      self.epsilon = tf.random_normal([tf.shape(self.sigma)[0], self.z_size])\n",
        "      self.z = self.mu + self.sigma * self.epsilon\n",
        "\n",
        "      # Decoder\n",
        "      self.y = self.build_decoder(self.z)\n",
        "      \n",
        "      #### predicting part\n",
        "      self.actions = tf.placeholder(tf.float32, shape=[None, 12])\n",
        "      self.predicted_z = self.build_predictor(self.actions, is_training=self.is_training)\n",
        "      self.predicted_y = self.build_decoder(self.predicted_z, reuse=True)\n",
        "      \n",
        "      # train ops\n",
        "      if self.is_training:\n",
        "        self.global_step = tf.Variable(0, name='global_step', trainable=False)\n",
        "        self.uneven_multiplier = tf.placeholder_with_default(1.0, [])\n",
        "        summ_uneven_mult = tf.summary.scalar('uneven_multiplier', self.uneven_multiplier)\n",
        "\n",
        "        eps = 1e-6 # avoid taking log of zero\n",
        "        \n",
        "        mask = tf.reduce_mean(\n",
        "          self.x,\n",
        "          reduction_indices = [3]\n",
        "        )\n",
        "        stroke_whitespace = tf.equal(mask, 1.0)\n",
        "        mask = tf.where(stroke_whitespace, tf.ones(tf.shape(mask)), self.uneven_multiplier*tf.ones(tf.shape(mask)))\n",
        "        mask = tf.reshape(mask, [-1, 64, 64, 1])\n",
        "        mask = tf.tile(mask, [1, 1, 1, 3])\n",
        "        summ_mask = tf.summary.image('mask', mask, max_outputs=3)\n",
        "        print(mask.get_shape())\n",
        "        \n",
        "        # reconstruction loss\n",
        "        self.r_loss = tf.reduce_sum(\n",
        "          (tf.square(self.x - self.y))*mask,\n",
        "          reduction_indices = [1,2,3]\n",
        "        )\n",
        "        self.r_loss = tf.reduce_mean(self.r_loss)\n",
        "\n",
        "        # augmented kl loss per dim\n",
        "        self.kl_loss = - 0.5 * tf.reduce_sum(\n",
        "          (1 + self.logvar - tf.square(self.mu) - tf.exp(self.logvar)),\n",
        "          reduction_indices = 1\n",
        "        )\n",
        "        self.kl_loss = tf.maximum(self.kl_loss, self.kl_tolerance * self.z_size)\n",
        "        self.kl_loss = tf.reduce_mean(self.kl_loss)\n",
        "        \n",
        "        summ_recon_loss = tf.summary.scalar('recon_loss', self.r_loss)\n",
        "        summ_kl_loss = tf.summary.scalar('kl_loss', self.kl_loss)\n",
        "        self.loss = self.r_loss + self.kl_loss\n",
        "        \n",
        "        # training the vae\n",
        "        self.lr = tf.Variable(self.learning_rate, trainable=False)\n",
        "        summ_lr = tf.summary.scalar('lr', self.lr)\n",
        "        self.optimizer = tf.train.AdamOptimizer(self.lr)\n",
        "        grads = self.optimizer.compute_gradients(\n",
        "            self.loss, \n",
        "            tf.global_variables('conv_vae/enc_*')+tf.global_variables('conv_vae/decoder*')) # can potentially clip gradients here.\n",
        "\n",
        "        self.train_op = self.optimizer.apply_gradients(\n",
        "          grads, global_step=self.global_step, name='train_step')\n",
        "        summ_loss = tf.summary.scalar('loss', self.loss)\n",
        "        \n",
        "        # training the predictor\n",
        "        self.predictor_loss = tf.reduce_mean(tf.square(self.predicted_z - self.z))\n",
        "        self.optimizer2 = tf.train.AdamOptimizer(self.lr)\n",
        "        grads2 = self.optimizer2.compute_gradients(self.predictor_loss, tf.global_variables('conv_vae/predictor*'))\n",
        "        with tf.control_dependencies(tf.get_collection(tf.GraphKeys.UPDATE_OPS)):\n",
        "          self.train_op2 = self.optimizer2.apply_gradients(\n",
        "            grads2, global_step=self.global_step, name='train_step2')\n",
        "        summ_predictor_loss = tf.summary.scalar('predictor_loss', self.predictor_loss)\n",
        "      \n",
        "        #summary ops\n",
        "        summ_inp_img = tf.summary.image('inp_img', self.x, max_outputs=3)\n",
        "        summ_output_img = tf.summary.image('output_img', self.y, max_outputs=3)\n",
        "        summ_predicted_output_img = tf.summary.image('predicted_output_img', self.predicted_y, max_outputs=3)\n",
        "        self.summary_op = tf.summary.merge([\n",
        "            summ_inp_img, summ_output_img, summ_loss, summ_kl_loss, summ_recon_loss,\n",
        "            summ_mask, summ_uneven_mult, summ_lr\n",
        "        ])\n",
        "        self.summary_op_2 = tf.summary.merge([\n",
        "            summ_inp_img, summ_predictor_loss, summ_output_img, summ_predicted_output_img, summ_lr\n",
        "        ])\n",
        "        \n",
        "\n",
        "      # initialize vars\n",
        "      self.init = tf.global_variables_initializer()\n",
        "  \n",
        "  def generate_stroke_graph(self, actions):\n",
        "    with tf.variable_scope('conv_vae', reuse=True):\n",
        "      with self.g.as_default():\n",
        "        # Encoder?\n",
        "        z = self.build_predictor(actions, reuse=True, is_training=False)\n",
        "\n",
        "        # Decoder\n",
        "        return self.build_decoder(z, reuse=True)\n",
        "\n",
        "  def _init_session(self):\n",
        "    \"\"\"Launch TensorFlow session and initialize variables\"\"\"\n",
        "    self.sess = tf.Session(graph=self.g)\n",
        "    self.sess.run(self.init)\n",
        "  def close_sess(self):\n",
        "    \"\"\" Close TensorFlow session \"\"\"\n",
        "    self.sess.close()\n",
        "  def save_model(self, model_save_path='tf_vae'):\n",
        "    sess = self.sess\n",
        "    step = sess.run(self.global_step)\n",
        "    with self.g.as_default():\n",
        "      saver = tf.train.Saver(tf.global_variables())\n",
        "    checkpoint_path = os.path.join(model_save_path, 'vae')\n",
        "    tf.logging.info('saving model %s.', checkpoint_path)\n",
        "    saver.save(sess, checkpoint_path, step) # just keep one\n",
        "  def load_checkpoint(self, checkpoint_path='tf_vae', actual_path=None):\n",
        "    sess = self.sess\n",
        "    with self.g.as_default():\n",
        "      saver = tf.train.Saver(tf.global_variables())\n",
        "    ckpt = tf.train.get_checkpoint_state(checkpoint_path)\n",
        "    if actual_path is None:\n",
        "      actual_path = ckpt.model_checkpoint_path\n",
        "    print('loading model', actual_path)\n",
        "    tf.logging.info('Loading model %s.', actual_path)\n",
        "    saver.restore(sess, actual_path)\n",
        "  def load_only_vae_checkpoint(self, checkpoint_path='tf_vae', actual_path=None):\n",
        "    sess = self.sess\n",
        "    with self.g.as_default():\n",
        "      to_save = tf.global_variables('conv_vae/enc_*')+tf.global_variables('conv_vae/decoder*')+tf.global_variables('conv_vae/conv_vae/enc_*')+tf.global_variables('conv_vae/conv_vae/decoder*')+tf.global_variables('conv_vae/global_step')\n",
        "      print(to_save)\n",
        "      saver = tf.train.Saver(to_save)\n",
        "    ckpt = tf.train.get_checkpoint_state(checkpoint_path)\n",
        "    if actual_path is None:\n",
        "      actual_path = ckpt.model_checkpoint_path\n",
        "    print('loading model', actual_path)\n",
        "    tf.logging.info('Loading model %s.', actual_path)\n",
        "    saver.restore(sess, actual_path)"
      ],
      "execution_count": 0,
      "outputs": []
    },
    {
      "metadata": {
        "id": "kP8In-W8XZZQ",
        "colab_type": "text"
      },
      "cell_type": "markdown",
      "source": [
        "# Training the VAE Neural painter"
      ]
    },
    {
      "metadata": {
        "id": "AS1ud5C1ZYQL",
        "colab_type": "code",
        "colab": {}
      },
      "cell_type": "code",
      "source": [
        "# Hyperparameters for ConvVAE\n",
        "z_size=64\n",
        "batch_size=100\n",
        "learning_rate=0.0001\n",
        "kl_tolerance=0.5\n",
        "\n",
        "# Parameters for training\n",
        "NUM_EPOCH = 5\n",
        "DATA_DIR = \"record\"\n",
        "\n",
        "model_save_path = \"tf_vae\"\n",
        "if not os.path.exists(model_save_path):\n",
        "  os.makedirs(model_save_path)"
      ],
      "execution_count": 0,
      "outputs": []
    },
    {
      "metadata": {
        "id": "caVhW8HYYwpE",
        "colab_type": "code",
        "colab": {}
      },
      "cell_type": "code",
      "source": [
        "def reset_graph():\n",
        "  if 'sess' in globals() and sess:\n",
        "    sess.close()\n",
        "  tf.reset_default_graph()\n",
        "\n",
        "reset_graph()"
      ],
      "execution_count": 0,
      "outputs": []
    },
    {
      "metadata": {
        "id": "5Fh546j_Z9KC",
        "colab_type": "code",
        "outputId": "672151f9-0fe1-4c83-a897-58dd3110103a",
        "colab": {
          "base_uri": "https://localhost:8080/",
          "height": 397
        }
      },
      "cell_type": "code",
      "source": [
        "vae = ConvVAE(z_size=z_size,\n",
        "              batch_size=batch_size,\n",
        "              learning_rate=learning_rate,\n",
        "              kl_tolerance=kl_tolerance,\n",
        "              is_training=True,\n",
        "              reuse=False,\n",
        "              gpu_mode=True)\n"
      ],
      "execution_count": 9,
      "outputs": [
        {
          "output_type": "stream",
          "text": [
            "INFO:tensorflow:conv_vae using gpu.\n",
            "WARNING:tensorflow:From <ipython-input-6-aa0208b17a80>:49: conv2d (from tensorflow.python.layers.convolutional) is deprecated and will be removed in a future version.\n",
            "Instructions for updating:\n",
            "Use keras.layers.conv2d instead.\n",
            "WARNING:tensorflow:From /usr/local/lib/python2.7/dist-packages/tensorflow/python/framework/op_def_library.py:263: colocate_with (from tensorflow.python.framework.ops) is deprecated and will be removed in a future version.\n",
            "Instructions for updating:\n",
            "Colocations handled automatically by placer.\n",
            "WARNING:tensorflow:From <ipython-input-6-aa0208b17a80>:56: dense (from tensorflow.python.layers.core) is deprecated and will be removed in a future version.\n",
            "Instructions for updating:\n",
            "Use keras.layers.dense instead.\n",
            "WARNING:tensorflow:From <ipython-input-6-aa0208b17a80>:23: conv2d_transpose (from tensorflow.python.layers.convolutional) is deprecated and will be removed in a future version.\n",
            "Instructions for updating:\n",
            "Use keras.layers.conv2d_transpose instead.\n",
            "WARNING:tensorflow:From <ipython-input-6-aa0208b17a80>:31: batch_normalization (from tensorflow.python.layers.normalization) is deprecated and will be removed in a future version.\n",
            "Instructions for updating:\n",
            "Use keras.layers.batch_normalization instead.\n",
            "(?, 64, 64, 3)\n",
            "WARNING:tensorflow:From /usr/local/lib/python2.7/dist-packages/tensorflow/python/ops/math_ops.py:3066: to_int32 (from tensorflow.python.ops.math_ops) is deprecated and will be removed in a future version.\n",
            "Instructions for updating:\n",
            "Use tf.cast instead.\n"
          ],
          "name": "stdout"
        }
      ]
    },
    {
      "metadata": {
        "id": "nCuWgbEhUekc",
        "colab_type": "code",
        "colab": {}
      },
      "cell_type": "code",
      "source": [
        "# Run this to start from a checkpoint\n",
        "# vae.load_checkpoint('tf_vae')\n"
      ],
      "execution_count": 0,
      "outputs": []
    },
    {
      "metadata": {
        "id": "firNYjRpX3h3",
        "colab_type": "text"
      },
      "cell_type": "markdown",
      "source": [
        "## Running tensorboard"
      ]
    },
    {
      "metadata": {
        "id": "yV4rMj60r74b",
        "colab_type": "code",
        "outputId": "362407bc-0ac3-4083-e350-5a7be44b2074",
        "colab": {
          "base_uri": "https://localhost:8080/",
          "height": 35
        }
      },
      "cell_type": "code",
      "source": [
        "#!rm -r logdir\n",
        "\n",
        "get_ipython().system_raw(\n",
        "    'tensorboard --logdir {} --host 0.0.0.0 --port 6006 &'\n",
        "    .format('logdir')\n",
        ")\n",
        "\n",
        "get_ipython().system_raw('./ngrok http 6006 &')\n",
        "\n",
        "!curl -s http://localhost:4040/api/tunnels | python3 -c \\\n",
        "    \"import sys, json; print(json.load(sys.stdin)['tunnels'][0]['public_url'])\"\n"
      ],
      "execution_count": 10,
      "outputs": [
        {
          "output_type": "stream",
          "text": [
            "https://6a436cad.ngrok.io\n"
          ],
          "name": "stdout"
        }
      ]
    },
    {
      "metadata": {
        "id": "6aa-d-yRmP56",
        "colab_type": "code",
        "colab": {}
      },
      "cell_type": "code",
      "source": [
        "#!kill $(lsof -t -i:6006)"
      ],
      "execution_count": 0,
      "outputs": []
    },
    {
      "metadata": {
        "id": "TtfxFG3mX63Z",
        "colab_type": "text"
      },
      "cell_type": "markdown",
      "source": [
        "## Actual training"
      ]
    },
    {
      "metadata": {
        "id": "LIVXqTShaG4e",
        "colab_type": "code",
        "outputId": "4fe2ef15-fe6b-431c-f79c-3b89d777f542",
        "colab": {
          "base_uri": "https://localhost:8080/",
          "height": 1151
        }
      },
      "cell_type": "code",
      "source": [
        "# TODO: Make file loading more efficient if needed\n",
        "print(\"train\", \"step\", \"loss\", \"recon_loss\", \"kl_loss\")\n",
        "episode_files = tf.gfile.Glob('data/episodes_*.npz')\n",
        "\n",
        "\n",
        "train_writer = tf.summary.FileWriter('logdir', vae.sess.graph)\n",
        "for epoch in range(NUM_EPOCH):\n",
        "  np.random.shuffle(episode_files)\n",
        "  \n",
        "  ep_files = episode_files\n",
        "  \n",
        "  for ep_file in ep_files:\n",
        "    print(ep_file)\n",
        "    loaded = np.load(ep_file)\n",
        "    actions = loaded['actions']\n",
        "    images = loaded['strokes']\n",
        "    images = np.reshape(images, [-1, 64, 64, 3])\n",
        "    #images = images[:, :, :, :3]\n",
        "    print(images.shape)\n",
        "    num_batches = int(np.floor(len(images)/batch_size))\n",
        "    print(\"num_batches\", num_batches)\n",
        "\n",
        "    for idx in range(num_batches):\n",
        "      train_step = vae.sess.run(vae.global_step)\n",
        "      \n",
        "      # When training the VAE at the beginning, we add more weight on matching the non-white areas of the brushstroke\n",
        "      # for the reconstructin loss. Otherwise, it will never learn.\n",
        "      if train_step > 10000:\n",
        "        uneven_multiplier = 1.0\n",
        "      else:\n",
        "        uneven_multiplier = 10.0\n",
        "      \n",
        "      batch = images[idx*batch_size:(idx+1)*batch_size]\n",
        "\n",
        "      obs = batch.astype(np.float)/255.0\n",
        "\n",
        "      feed = {vae.x: obs, \n",
        "              vae.actions: actions[idx*batch_size:(idx+1)*batch_size], \n",
        "              vae.uneven_multiplier: uneven_multiplier}\n",
        "\n",
        "      if train_step < 200000:\n",
        "        # First part of training trains the VAE\n",
        "        (train_loss, _, summ) = vae.sess.run([\n",
        "          vae.loss, vae.train_op, vae.summary_op\n",
        "        ], feed)\n",
        "      else:\n",
        "        # Second part of training trains the predictor\n",
        "        \n",
        "        # Manually adjusted learning rate. Can probably change this to other decay strategies.\n",
        "        if train_step < 220000:\n",
        "          feed[vae.lr] = 0.01\n",
        "        elif train_step < 280000:\n",
        "          feed[vae.lr] = 0.001\n",
        "        else:\n",
        "          feed[vae.lr] = 0.0001\n",
        "        (train_loss, _, summ) = vae.sess.run([\n",
        "          vae.predictor_loss, vae.train_op2, vae.summary_op_2\n",
        "        ], feed)\n",
        "\n",
        "      if ((train_step+1) % 50 == 0):\n",
        "        train_writer.add_summary(summ, train_step)\n",
        "      if ((train_step+1) % 500 == 0):\n",
        "        print(\"step\", (train_step+1), train_loss)\n",
        "      if ((train_step+1) % 10000 == 0):\n",
        "        vae.save_model()"
      ],
      "execution_count": 0,
      "outputs": [
        {
          "output_type": "stream",
          "text": [
            "('train', 'step', 'loss', 'recon_loss', 'kl_loss')\n",
            "data/episodes_67.npz\n",
            "(100000, 64, 64, 3)\n",
            "('num_batches', 1000)\n",
            "('step', 500, 1174.2031)\n",
            "('step', 1000, 898.33514)\n",
            "data/episodes_28.npz\n",
            "(100000, 64, 64, 3)\n",
            "('num_batches', 1000)\n",
            "('step', 1500, 885.24243)\n",
            "('step', 2000, 888.0618)\n",
            "data/episodes_64.npz\n",
            "(100000, 64, 64, 3)\n",
            "('num_batches', 1000)\n",
            "('step', 2500, 728.4216)\n",
            "('step', 3000, 657.79584)\n",
            "data/episodes_13.npz\n",
            "(100000, 64, 64, 3)\n",
            "('num_batches', 1000)\n",
            "('step', 3500, 691.70526)\n",
            "('step', 4000, 675.4695)\n",
            "data/episodes_42.npz\n",
            "(100000, 64, 64, 3)\n",
            "('num_batches', 1000)\n",
            "('step', 4500, 739.1411)\n",
            "('step', 5000, 742.3236)\n",
            "data/episodes_30.npz\n",
            "(100000, 64, 64, 3)\n",
            "('num_batches', 1000)\n",
            "('step', 5500, 755.3373)\n",
            "('step', 6000, 668.58636)\n",
            "data/episodes_76.npz\n",
            "(100000, 64, 64, 3)\n",
            "('num_batches', 1000)\n",
            "('step', 6500, 643.5762)\n",
            "('step', 7000, 460.44772)\n",
            "data/episodes_73.npz\n",
            "(100000, 64, 64, 3)\n",
            "('num_batches', 1000)\n",
            "('step', 7500, 536.8815)\n",
            "('step', 8000, 495.9364)\n",
            "data/episodes_15.npz\n",
            "(100000, 64, 64, 3)\n",
            "('num_batches', 1000)\n",
            "('step', 8500, 502.9616)\n",
            "('step', 9000, 446.30313)\n",
            "data/episodes_21.npz\n",
            "(100000, 64, 64, 3)\n",
            "('num_batches', 1000)\n",
            "('step', 9500, 510.64642)\n",
            "('step', 10000, 352.38654)\n",
            "INFO:tensorflow:saving model tf_vae/vae.\n",
            "data/episodes_58.npz\n",
            "(100000, 64, 64, 3)\n",
            "('num_batches', 1000)\n",
            "('step', 10500, 79.26227)\n",
            "('step', 11000, 76.55177)\n",
            "data/episodes_22.npz\n",
            "(100000, 64, 64, 3)\n",
            "('num_batches', 1000)\n",
            "('step', 11500, 78.81706)\n",
            "('step', 12000, 81.94941)\n",
            "data/episodes_70.npz\n"
          ],
          "name": "stdout"
        }
      ]
    },
    {
      "metadata": {
        "id": "Etr_QcRyVyxD",
        "colab_type": "code",
        "colab": {}
      },
      "cell_type": "code",
      "source": [
        ""
      ],
      "execution_count": 0,
      "outputs": []
    },
    {
      "metadata": {
        "id": "JbgXXtjrDoXs",
        "colab_type": "code",
        "colab": {}
      },
      "cell_type": "code",
      "source": [
        ""
      ],
      "execution_count": 0,
      "outputs": []
    },
    {
      "metadata": {
        "id": "pSm9JIOM3hiA",
        "colab_type": "code",
        "colab": {}
      },
      "cell_type": "code",
      "source": [
        ""
      ],
      "execution_count": 0,
      "outputs": []
    },
    {
      "metadata": {
        "id": "4b1l22x5RnzM",
        "colab_type": "text"
      },
      "cell_type": "markdown",
      "source": [
        "# Test your trained model"
      ]
    },
    {
      "metadata": {
        "id": "6GJ4LqIFSq5m",
        "colab_type": "code",
        "colab": {}
      },
      "cell_type": "code",
      "source": [
        "loaded = np.load('data/episodes_0.npz')\n",
        "images = loaded['strokes']\n",
        "images = np.reshape(images[-100:], [-1, 64, 64, 3])\n",
        "actions = loaded['actions'][-100:]"
      ],
      "execution_count": 0,
      "outputs": []
    },
    {
      "metadata": {
        "id": "YrLlDqTW5UL7",
        "colab_type": "code",
        "outputId": "fd6cb292-32ac-4bdd-a946-56f50334060c",
        "colab": {
          "base_uri": "https://localhost:8080/",
          "height": 325
        }
      },
      "cell_type": "code",
      "source": [
        "test_vae = ConvVAE(z_size=z_size,\n",
        "              batch_size=batch_size,\n",
        "              learning_rate=learning_rate,\n",
        "              kl_tolerance=kl_tolerance,\n",
        "              is_training=False,\n",
        "              reuse=False,\n",
        "              gpu_mode=False)"
      ],
      "execution_count": 0,
      "outputs": [
        {
          "output_type": "stream",
          "text": [
            "INFO:tensorflow:conv_vae using cpu.\n",
            "WARNING:tensorflow:From <ipython-input-11-aa0208b17a80>:49: conv2d (from tensorflow.python.layers.convolutional) is deprecated and will be removed in a future version.\n",
            "Instructions for updating:\n",
            "Use keras.layers.conv2d instead.\n",
            "WARNING:tensorflow:From /usr/local/lib/python2.7/dist-packages/tensorflow/python/framework/op_def_library.py:263: colocate_with (from tensorflow.python.framework.ops) is deprecated and will be removed in a future version.\n",
            "Instructions for updating:\n",
            "Colocations handled automatically by placer.\n",
            "WARNING:tensorflow:From <ipython-input-11-aa0208b17a80>:56: dense (from tensorflow.python.layers.core) is deprecated and will be removed in a future version.\n",
            "Instructions for updating:\n",
            "Use keras.layers.dense instead.\n",
            "WARNING:tensorflow:From <ipython-input-11-aa0208b17a80>:23: conv2d_transpose (from tensorflow.python.layers.convolutional) is deprecated and will be removed in a future version.\n",
            "Instructions for updating:\n",
            "Use keras.layers.conv2d_transpose instead.\n",
            "WARNING:tensorflow:From <ipython-input-11-aa0208b17a80>:31: batch_normalization (from tensorflow.python.layers.normalization) is deprecated and will be removed in a future version.\n",
            "Instructions for updating:\n",
            "Use keras.layers.batch_normalization instead.\n"
          ],
          "name": "stdout"
        }
      ]
    },
    {
      "metadata": {
        "id": "p9VgDNOy5USp",
        "colab_type": "code",
        "colab": {}
      },
      "cell_type": "code",
      "source": [
        "def plot_images(images):\n",
        "  h=args.screen_size\n",
        "  fig=plt.figure(figsize=(16, 16))\n",
        "  columns = len(images)\n",
        "  rows = 1\n",
        "\n",
        "  for i, img in enumerate(images):\n",
        "    img = img[:, :, :3]\n",
        "    #print(img.shape)\n",
        "    fig.add_subplot(rows, columns, i+1)\n",
        "    plt.grid(False)\n",
        "    plt.imshow(img)\n",
        "  plt.show()\n"
      ],
      "execution_count": 0,
      "outputs": []
    },
    {
      "metadata": {
        "id": "lnXoiZ6h5UQi",
        "colab_type": "code",
        "outputId": "99fc8043-e7b3-4bfd-b4d6-95ca1f10020e",
        "colab": {
          "base_uri": "https://localhost:8080/",
          "height": 521
        }
      },
      "cell_type": "code",
      "source": [
        "\n",
        "def experiment(to_plot, fn, actual=None):\n",
        "  test_vae.load_checkpoint(fn, actual)\n",
        "  images_to_plot = images[to_plot:to_plot+5].astype(np.float32)/255.\n",
        "  plot_images(images_to_plot)\n",
        "  decoded = test_vae.sess.run(test_vae.predicted_y, feed_dict={test_vae.actions: actions[to_plot:to_plot+5]})\n",
        "  plot_images(decoded)\n",
        "  \n",
        "  plt.show()\n",
        "  \n",
        "experiment(20, 'tf_vae')\n"
      ],
      "execution_count": 0,
      "outputs": [
        {
          "output_type": "stream",
          "text": [
            "('loading model', u'tf_vae/vae-300000')\n",
            "INFO:tensorflow:Loading model tf_vae/vae-300000.\n",
            "WARNING:tensorflow:From /usr/local/lib/python2.7/dist-packages/tensorflow/python/training/saver.py:1266: checkpoint_exists (from tensorflow.python.training.checkpoint_management) is deprecated and will be removed in a future version.\n",
            "Instructions for updating:\n",
            "Use standard file APIs to check for files with this prefix.\n",
            "INFO:tensorflow:Restoring parameters from tf_vae/vae-300000\n"
          ],
          "name": "stdout"
        },
        {
          "output_type": "display_data",
          "data": {
            "image/png": "[encoded data removed]",
            "text/plain": [
              "<Figure size 1152x1152 with 5 Axes>"
            ]
          },
          "metadata": {
            "tags": []
          }
        },
        {
          "output_type": "display_data",
          "data": {
            "image/png": "[encoded data removed]",
            "text/plain": [
              "<Figure size 1152x1152 with 5 Axes>"
            ]
          },
          "metadata": {
            "tags": []
          }
        }
      ]
    },
    {
      "metadata": {
        "id": "zi9hYX4VTUqi",
        "colab_type": "code",
        "outputId": "944daa79-f0e0-4f7a-e409-4a7291fa2452",
        "colab": {
          "base_uri": "https://localhost:8080/",
          "height": 620
        }
      },
      "cell_type": "code",
      "source": [
        "\n",
        "def experiment5(test_models, duration=10.0):\n",
        "  env = ColorEnv(args, paint_mode=PaintMode.STROKES_ONLY)\n",
        "  env.reset()\n",
        "  \n",
        "  NUM_ACS = 8\n",
        "  acs = [env.random_action() for _ in range(NUM_ACS)]\n",
        "  \n",
        "  def frame(t):\n",
        "    t_ = t / duration\n",
        "    t = np.abs((1.0-np.cos(NUM_ACS*np.pi*np.mod(t_, 1./NUM_ACS)))/2.0)\n",
        "    \n",
        "    new_ac = (1-t)*acs[int(np.floor(t_*NUM_ACS))] + t*acs[int((np.floor(t_*NUM_ACS)+1)%NUM_ACS)]\n",
        "    env.draw(new_ac)\n",
        "    im = env.image\n",
        "    im = im[:, :, :3]\n",
        "    stack_these = []\n",
        "    for test_gan in test_models:\n",
        "      decoded = test_gan.sess.run(test_gan.predicted_y, feed_dict={test_gan.actions: [new_ac]})[0]\n",
        "      decoded = (decoded*255).astype(np.uint8)\n",
        "      concatted = np.concatenate([im, decoded], 1)\n",
        "      stack_these.append(concatted)\n",
        "    return np.concatenate(stack_these, axis=0)\n",
        "  \n",
        "  clip = mpy.VideoClip(frame, duration=duration)\n",
        "  clip.write_videofile('tmp.mp4', fps=30.0)\n",
        "  display(mpy.ipython_display('tmp.mp4', height=400))\n",
        "\n",
        "  \n",
        "  \n",
        "_test_gans = [test_vae]\n",
        "_test_gans[0].load_checkpoint('tf_vae')\n",
        "experiment5(_test_gans, 20.)\n"
      ],
      "execution_count": 0,
      "outputs": [
        {
          "output_type": "stream",
          "text": [
            "('loading model', u'tf_vae/vae-300000')\n",
            "INFO:tensorflow:Loading model tf_vae/vae-300000.\n"
          ],
          "name": "stdout"
        },
        {
          "output_type": "stream",
          "text": [
            "INFO:tensorflow:Loading model tf_vae/vae-300000.\n"
          ],
          "name": "stderr"
        },
        {
          "output_type": "stream",
          "text": [
            "INFO:tensorflow:Restoring parameters from tf_vae/vae-300000\n"
          ],
          "name": "stdout"
        },
        {
          "output_type": "stream",
          "text": [
            "INFO:tensorflow:Restoring parameters from tf_vae/vae-300000\n"
          ],
          "name": "stderr"
        },
        {
          "output_type": "stream",
          "text": [
            "[MoviePy] >>>> Building video tmp.mp4\n",
            "[MoviePy] Writing video tmp.mp4\n"
          ],
          "name": "stdout"
        },
        {
          "output_type": "stream",
          "text": [
            "100%|█████████▉| 600/601 [00:08<00:00, 77.43it/s]"
          ],
          "name": "stderr"
        },
        {
          "output_type": "stream",
          "text": [
            "[MoviePy] Done.\n",
            "[MoviePy] >>>> Video ready: tmp.mp4 \n",
            "\n"
          ],
          "name": "stdout"
        },
        {
          "output_type": "stream",
          "text": [
            "\n"
          ],
          "name": "stderr"
        },
        {
          "output_type": "display_data",
          "data": {
            "text/plain": [
              "<moviepy.video.io.html_tools.HTML2 object>"
            ],
            "text/html": [
              "<div align=middle><video height='400'src='data:video/mp4;base64,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' controls>Sorry, seems like your browser doesn't support HTML5 audio/video</video></div>"
            ]
          },
          "metadata": {
            "tags": []
          }
        }
      ]
    },
    {
      "metadata": {
        "id": "sPVLTncRLpTD",
        "colab_type": "code",
        "colab": {}
      },
      "cell_type": "code",
      "source": [
        ""
      ],
      "execution_count": 0,
      "outputs": []
    }
  ]
}